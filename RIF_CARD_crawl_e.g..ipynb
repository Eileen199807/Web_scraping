{
 "cells": [
  {
   "cell_type": "code",
   "execution_count": null,
   "metadata": {},
   "outputs": [],
   "source": [
    "from selenium import webdriver\n",
    "from selenium.webdriver.chrome.options import Options\n",
    "from selenium.webdriver.common.by import By\n",
    "from selenium.webdriver.common.keys import Keys\n",
    "from selenium.webdriver.support.select import Select\n",
    "from selenium.webdriver.support.ui import WebDriverWait\n",
    "from selenium.webdriver.common.action_chains import ActionChains\n",
    "from selenium.common.exceptions import NoSuchElementException, StaleElementReferenceException\n",
    "from selenium.webdriver.support import expected_conditions as EC\n",
    "import time, random\n",
    "import pandas as pd\n",
    "import tqdm\n",
    "from time import sleep"
   ]
  },
  {
   "cell_type": "code",
   "execution_count": null,
   "metadata": {},
   "outputs": [],
   "source": [
    "ARGS = pd.read_excel(\"AST_ARG_blank.xlsx\")"
   ]
  },
  {
   "cell_type": "code",
   "execution_count": null,
   "metadata": {},
   "outputs": [],
   "source": [
    "search_terms = ARGS['ARG'].tolist()"
   ]
  },
  {
   "cell_type": "code",
   "execution_count": null,
   "metadata": {},
   "outputs": [],
   "source": [
    "chrome_options = Options()\n",
    "chrome_options.add_argument(\"--headless\")\n",
    "chrome_options.add_argument(\"--disable-cookie-encryption\")"
   ]
  },
  {
   "cell_type": "code",
   "execution_count": null,
   "metadata": {},
   "outputs": [],
   "source": [
    "driver = webdriver.Chrome()\n",
    "driver.get(\"https://card.mcmaster.ca/\")"
   ]
  },
  {
   "cell_type": "code",
   "execution_count": null,
   "metadata": {},
   "outputs": [],
   "source": [
    "ARG_form = driver.find_element(By.CLASS_NAME, \"form-control\")\n",
    "ARG_form.send_keys(term_with_space)"
   ]
  },
  {
   "cell_type": "code",
   "execution_count": null,
   "metadata": {},
   "outputs": [],
   "source": [
    "link = WebDriverWait(driver, 10).until(EC.presence_of_element_located((By.XPATH, f'//a[contains(text(),\"{term}\")]')))"
   ]
  },
  {
   "cell_type": "code",
   "execution_count": null,
   "metadata": {},
   "outputs": [],
   "source": [
    "driver = webdriver.Chrome()\n",
    "driver.get(\"https://card.mcmaster.ca/\")"
   ]
  },
  {
   "cell_type": "code",
   "execution_count": null,
   "metadata": {},
   "outputs": [],
   "source": [
    "all_data = []\n",
    "for term in tqdm.tqdm(search_terms):\n",
    "    driver = webdriver.Chrome()\n",
    "    driver.get(\"https://card.mcmaster.ca/\")\n",
    "    ARG_form = driver.find_element(By.CLASS_NAME, \"form-control\")\n",
    "    term_with_space = term + ''\n",
    "    ARG_form.send_keys(term_with_space)\n",
    "    link = WebDriverWait(driver, 20).until(EC.presence_of_element_located((By.XPATH, f'//a[contains(text(),\"{term}\")]')))\n",
    "    link.click()\n",
    "    table = driver.find_element(by=By.CLASS_NAME, value=\"table.table-striped.table-condensed.table-bordered\")\n",
    "    ARO_row = table.find_elements(By.TAG_NAME, \"tr\")[0]\n",
    "    ARO = ARO_row.find_elements(By.TAG_NAME, \"td\")[1].text\n",
    "    Drug_class_row = table.find_elements(By.TAG_NAME, \"tr\")[5]\n",
    "    Drug_class = Drug_class_row.find_elements(By.TAG_NAME, \"td\")[1].text\n",
    "    Gene_Family_row = table.find_elements(By.TAG_NAME, \"tr\")[4]\n",
    "    Gene_Family = Gene_Family_row.find_elements(By.TAG_NAME, \"td\")[1].text\n",
    "    Resistance_Mechanism_row = table.find_elements(By.TAG_NAME, \"tr\")[6]\n",
    "    Resistance_Mechanism = Resistance_Mechanism_row.find_elements(By.TAG_NAME, \"td\")[1].text\n",
    "    Definition_row = table.find_elements(By.TAG_NAME, \"tr\")[3]\n",
    "    Definition = Definition_row.find_elements(By.TAG_NAME, \"td\")[1].text\n",
    "    prodiv = driver.find_element(by=By.CLASS_NAME, value=\"tab-pane.active.table-responsive\")\n",
    "    ProteinsID = prodiv.find_element(By.TAG_NAME, 'a').text.split('|')[1]\n",
    "    DNA_link = WebDriverWait(driver, 5).until(EC.presence_of_element_located((By.XPATH, f'//a[contains(text(),\"DNA\")]')))\n",
    "    DNA_link.click()\n",
    "    dnadiv = driver.find_element(by=By.CLASS_NAME, value=\"tab-pane.table-responsive.active\")\n",
    "    NucleotideID = dnadiv.find_element(By.TAG_NAME, 'a').text.split('|')[1]\n",
    "    all_data.append((ARO, ProteinsID, NucleotideID, Drug_class, Gene_Family, Resistance_Mechanism, Definition))\n",
    "    driver.quit()"
   ]
  }
 ],
 "metadata": {
  "kernelspec": {
   "display_name": "Python 3",
   "language": "python",
   "name": "python3"
  },
  "language_info": {
   "codemirror_mode": {
    "name": "ipython",
    "version": 3
   },
   "file_extension": ".py",
   "mimetype": "text/x-python",
   "name": "python",
   "nbconvert_exporter": "python",
   "pygments_lexer": "ipython3",
   "version": "3.11.6"
  }
 },
 "nbformat": 4,
 "nbformat_minor": 2
}
